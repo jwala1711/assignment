{
  "nbformat": 4,
  "nbformat_minor": 0,
  "metadata": {
    "colab": {
      "provenance": [],
      "authorship_tag": "ABX9TyOEb07Ev9BRTwWqB5i1VLvX",
      "include_colab_link": true
    },
    "kernelspec": {
      "name": "python3",
      "display_name": "Python 3"
    },
    "language_info": {
      "name": "python"
    }
  },
  "cells": [
    {
      "cell_type": "markdown",
      "metadata": {
        "id": "view-in-github",
        "colab_type": "text"
      },
      "source": [
        "<a href=\"https://colab.research.google.com/github/jwala1711/assignment/blob/main/DAY_5.ipynb\" target=\"_parent\"><img src=\"https://colab.research.google.com/assets/colab-badge.svg\" alt=\"Open In Colab\"/></a>"
      ]
    },
    {
      "cell_type": "code",
      "execution_count": 1,
      "metadata": {
        "colab": {
          "base_uri": "https://localhost:8080/"
        },
        "id": "5BbQxZB4Pt1D",
        "outputId": "06da652c-e223-4f16-a1b6-06358f585e8c"
      },
      "outputs": [
        {
          "output_type": "stream",
          "name": "stdout",
          "text": [
            "Enter a text: J\n",
            "\n",
            "Word Frequencies:\n",
            "j: 1\n"
          ]
        }
      ],
      "source": [
        "\n",
        "# Taking input text from the user\n",
        "text = input(\"Enter a text: \")\n",
        "\n",
        "# Converting the text to lowercase and splitting it into words\n",
        "words = text.lower().split()\n",
        "\n",
        "# Initializing an empty dictionary to store word frequencies\n",
        "word_counts = {}\n",
        "\n",
        "# Counting the frequency of each word\n",
        "for word in words:\n",
        "    word_counts[word] = word_counts.get(word, 0) + 1\n",
        "\n",
        "# Printing the words and their counts\n",
        "print(\"\\nWord Frequencies:\")\n",
        "for word, count in word_counts.items():\n",
        "    print(f\"{word}: {count}\")\n",
        "\n",
        "\n"
      ]
    },
    {
      "cell_type": "code",
      "source": [],
      "metadata": {
        "id": "ggYNQQhmPwPk"
      },
      "execution_count": null,
      "outputs": []
    }
  ]
}