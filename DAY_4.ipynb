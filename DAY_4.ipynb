{
  "nbformat": 4,
  "nbformat_minor": 0,
  "metadata": {
    "colab": {
      "provenance": [],
      "authorship_tag": "ABX9TyMtMVD54HubcZtIwO+Hyohr",
      "include_colab_link": true
    },
    "kernelspec": {
      "name": "python3",
      "display_name": "Python 3"
    },
    "language_info": {
      "name": "python"
    }
  },
  "cells": [
    {
      "cell_type": "markdown",
      "metadata": {
        "id": "view-in-github",
        "colab_type": "text"
      },
      "source": [
        "<a href=\"https://colab.research.google.com/github/jwala1711/assignment/blob/main/DAY_4.ipynb\" target=\"_parent\"><img src=\"https://colab.research.google.com/assets/colab-badge.svg\" alt=\"Open In Colab\"/></a>"
      ]
    },
    {
      "cell_type": "code",
      "execution_count": 1,
      "metadata": {
        "colab": {
          "base_uri": "https://localhost:8080/"
        },
        "id": "ySU-AxgcPYVd",
        "outputId": "9b43f92d-1c3a-4256-86bd-1ddc894b69e5"
      },
      "outputs": [
        {
          "output_type": "stream",
          "name": "stdout",
          "text": [
            "Enter a positive integer: 30\n",
            "The sum of all even numbers between 1 and 30 is: 240\n"
          ]
        }
      ],
      "source": [
        "# Taking input for the positive integer n\n",
        "n = int(input(\"Enter a positive integer: \"))\n",
        "\n",
        "# Initialize the sum\n",
        "even_sum = 0\n",
        "\n",
        "# Calculate the sum of all even numbers between 1 and n\n",
        "for i in range(2, n + 1, 2):  # Start at 2 and increment by 2\n",
        "    even_sum += i\n",
        "\n",
        "# Print the result\n",
        "print(f\"The sum of all even numbers between 1 and {n} is: {even_sum}\")\n",
        "\n"
      ]
    },
    {
      "cell_type": "code",
      "source": [
        ""
      ],
      "metadata": {
        "id": "FLmMdrIKPa0v"
      },
      "execution_count": null,
      "outputs": []
    }
  ]
}